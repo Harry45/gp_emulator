{
 "cells": [
  {
   "cell_type": "code",
   "execution_count": 1,
   "metadata": {},
   "outputs": [],
   "source": [
    "import numpy as np \n",
    "import dill\n",
    "\n",
    "# import likelihood script \n",
    "import likelihood_class_moped as lcm"
   ]
  },
  {
   "cell_type": "markdown",
   "metadata": {},
   "source": [
    "### Setup For Likelihood "
   ]
  },
  {
   "cell_type": "code",
   "execution_count": 2,
   "metadata": {},
   "outputs": [
    {
     "name": "stdout",
     "output_type": "stream",
     "text": [
      "Integrations performed at resolution of histogram!\n"
     ]
    }
   ],
   "source": [
    "kids_moped = lcm.kids450(file_settings = 'settingsMoped')\n",
    "kids_moped.priors()"
   ]
  },
  {
   "cell_type": "markdown",
   "metadata": {},
   "source": [
    "### Example For MOPED Likelihood Computation\n",
    "<br>\n",
    "<div style=\"text-align: justify\">If we are running MOPED for the first time, we will have to compute the gradients (at the fiducial point given below) and save the MOPED vectors and the compressed data. Otherwise, we just load them (if they are already pre-computed). The parameters are in the following format:</div>\n",
    "\n",
    "$$\n",
    "\\left[\\Omega_{\\textrm{cdm}}h^{2},\\,\\Omega_{\\textrm{b}}h^{2},\\,\\textrm{ln}\\left(10^{10}A_{\\textrm{s}}\\right),\\,n_{\\textrm{s}},\\,h,\\,A_{\\textrm{bary}},\\,A_{1},\\,A_{2},\\,A_{3},\\,A_{\\textrm{IA}},\\,\\Sigma m_{\\nu},\\right]\n",
    "$$"
   ]
  },
  {
   "cell_type": "code",
   "execution_count": 3,
   "metadata": {},
   "outputs": [],
   "source": [
    "params = np.array([ 0.1295,  0.0224,  2.895 ,  0.9948,  0.7411,  1.0078,  0.0289, 0.0133, -0.0087, -1.9163,  0.5692])\n",
    "# kids_moped.gradient(params)\n",
    "# kids_moped.saveMopedVectors(fileName = '3.txt')\n",
    "kids_moped.loadMopedVectors(fileName = '3.txt')"
   ]
  },
  {
   "cell_type": "code",
   "execution_count": 4,
   "metadata": {},
   "outputs": [
    {
     "data": {
      "text/plain": [
       "array([10.56, 1.26, 0.03, -0.50, 0.16, -0.33, 0.02, -0.04, 0.06, 0.08,\n",
       "       -0.03])"
      ]
     },
     "execution_count": 4,
     "metadata": {},
     "output_type": "execute_result"
    }
   ],
   "source": [
    "kids_moped.mopedCoeff(params)"
   ]
  },
  {
   "cell_type": "markdown",
   "metadata": {},
   "source": [
    "As a cross-creck, $\\textbf{B}^{\\textrm{T}}\\textbf{C}\\textbf{B} = \\mathbb{I}$ where $\\textbf{B}\\in\\mathbb{R}^{N\\times p}$. $N$ is the number of data points and $p$ is the number of parameters. "
   ]
  },
  {
   "cell_type": "code",
   "execution_count": 5,
   "metadata": {},
   "outputs": [
    {
     "data": {
      "text/plain": [
       "array([[1.00, 0.00, 0.00, -0.00, -0.00, 0.00, 0.00, -0.00, -0.00, -0.00,\n",
       "        0.00],\n",
       "       [0.00, 1.00, -0.00, 0.00, 0.00, -0.00, -0.00, 0.00, 0.00, -0.00,\n",
       "        -0.00],\n",
       "       [0.00, -0.00, 1.00, 0.00, -0.00, -0.00, -0.00, 0.00, -0.00, 0.00,\n",
       "        -0.00],\n",
       "       [-0.00, 0.00, 0.00, 1.00, -0.00, 0.00, 0.00, -0.00, 0.00, -0.00,\n",
       "        0.00],\n",
       "       [-0.00, 0.00, -0.00, -0.00, 1.00, -0.00, -0.00, 0.00, 0.00, -0.00,\n",
       "        -0.00],\n",
       "       [0.00, -0.00, -0.00, 0.00, -0.00, 1.00, 0.00, -0.00, -0.00, 0.00,\n",
       "        0.00],\n",
       "       [0.00, -0.00, -0.00, 0.00, -0.00, 0.00, 1.00, -0.00, -0.00, 0.00,\n",
       "        0.00],\n",
       "       [-0.00, 0.00, 0.00, -0.00, 0.00, -0.00, -0.00, 1.00, 0.00, -0.00,\n",
       "        -0.00],\n",
       "       [-0.00, 0.00, -0.00, 0.00, 0.00, -0.00, -0.00, 0.00, 1.00, 0.00,\n",
       "        -0.00],\n",
       "       [-0.00, -0.00, 0.00, -0.00, -0.00, 0.00, 0.00, -0.00, 0.00, 1.00,\n",
       "        0.00],\n",
       "       [0.00, -0.00, -0.00, 0.00, -0.00, 0.00, 0.00, -0.00, -0.00, 0.00,\n",
       "        1.00]])"
      ]
     },
     "execution_count": 5,
     "metadata": {},
     "output_type": "execute_result"
    }
   ],
   "source": [
    "np.dot(kids_moped.b, np.dot(np.linalg.inv(kids_moped.covInverse), kids_moped.b.T))"
   ]
  },
  {
   "cell_type": "markdown",
   "metadata": {},
   "source": [
    "Compute likelihood at fiducial point - as a test. Note that the resetting_bias is set to True - so the likelihood value will be different if we re-run the cell below.  "
   ]
  },
  {
   "cell_type": "code",
   "execution_count": 6,
   "metadata": {},
   "outputs": [
    {
     "data": {
      "text/plain": [
       "-3.4297985150530974"
      ]
     },
     "execution_count": 6,
     "metadata": {},
     "output_type": "execute_result"
    }
   ],
   "source": [
    "kids_moped.logLike_moped(params)"
   ]
  },
  {
   "cell_type": "markdown",
   "metadata": {},
   "source": [
    "### Run MCMC \n",
    "However, with $15000 \\times 22 = 330 000$ MCMC samples, this will take about 44 hours (on my Desktop Computer)"
   ]
  },
  {
   "cell_type": "code",
   "execution_count": null,
   "metadata": {},
   "outputs": [],
   "source": [
    "# filename  = 'moped_class_mcmc_samples'\n",
    "# eps       = np.array([1E-3, 1E-4, 0.01, 0.01, 1E-3, 0.1, 1E-4, 1E-4, 1E-4, 0.1, 0.01])\n",
    "# samples   = kids_moped.emceeSampler_moped(params, eps, nSamples = 15000, nwalkers = 22)\n",
    "\n",
    "# with open(directory+'mcmc_samples/'+filename, 'wb') as g:\n",
    "#     dill.dump(samples, g)"
   ]
  }
 ],
 "metadata": {
  "kernelspec": {
   "display_name": "Python 3",
   "language": "python",
   "name": "python3"
  },
  "language_info": {
   "codemirror_mode": {
    "name": "ipython",
    "version": 3
   },
   "file_extension": ".py",
   "mimetype": "text/x-python",
   "name": "python",
   "nbconvert_exporter": "python",
   "pygments_lexer": "ipython3",
   "version": "3.7.6"
  }
 },
 "nbformat": 4,
 "nbformat_minor": 2
}
