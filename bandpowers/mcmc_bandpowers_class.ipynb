{
 "cells": [
  {
   "cell_type": "code",
   "execution_count": 1,
   "metadata": {},
   "outputs": [],
   "source": [
    "import numpy as np \n",
    "import dill \n",
    "\n",
    "import likelihood_class_bandpowers as lcb"
   ]
  },
  {
   "cell_type": "markdown",
   "metadata": {},
   "source": [
    "### Setup For Likelihood "
   ]
  },
  {
   "cell_type": "code",
   "execution_count": 3,
   "metadata": {},
   "outputs": [],
   "source": [
    "kids_band = lcb.kids450(file_settings = 'settings')\n",
    "kids_band.priors()"
   ]
  },
  {
   "cell_type": "markdown",
   "metadata": {},
   "source": [
    "### Example for Likelihood Computation\n",
    "<br>\n",
    "<div style=\"text-align: justify\">The parameters are in the following format:</div>\n",
    "\n",
    "$$\n",
    "\\left[\\Omega_{\\textrm{cdm}}h^{2},\\,\\Omega_{\\textrm{b}}h^{2},\\,\\textrm{ln}\\left(10^{10}A_{\\textrm{s}}\\right),\\,n_{\\textrm{s}},\\,h,\\,A_{\\textrm{bary}},\\,A_{1},\\,A_{2},\\,A_{3},\\,A_{\\textrm{IA}},\\,m,\\,\\Sigma m_{\\nu}\\right]\n",
    "$$"
   ]
  },
  {
   "cell_type": "code",
   "execution_count": 4,
   "metadata": {},
   "outputs": [],
   "source": [
    "params = np.array([0.1295,  0.0224,  2.895 ,  0.9948,  0.7411,  1.0078,  0.0289, \n",
    "                   0.0133, -0.0087, -1.9163, -0.011, 0.5692])"
   ]
  },
  {
   "cell_type": "code",
   "execution_count": 5,
   "metadata": {},
   "outputs": [
    {
     "data": {
      "text/plain": [
       "-50.92517591898856"
      ]
     },
     "execution_count": 5,
     "metadata": {},
     "output_type": "execute_result"
    }
   ],
   "source": [
    "kids_band.loglikelihood(params)"
   ]
  },
  {
   "cell_type": "markdown",
   "metadata": {},
   "source": [
    "### Run MCMC\n",
    "Note that with $15000 \\times 24 = 360 000$ MCMC samples, this will take about 44 hours (on my Desktop Computer)"
   ]
  },
  {
   "cell_type": "code",
   "execution_count": null,
   "metadata": {},
   "outputs": [],
   "source": [
    "filename  = 'bandpowers_class_mcmc_samples'\n",
    "\n",
    "# eps  = np.array([1E-3, 1E-4, 0.01, 0.01, 1E-3, 0.1, 1E-4, 1E-4, 1E-4, 0.1, 1E-4, 0.01])\n",
    "# samples = kids_band.emceeSampler(params, eps, nSamples = 15000, nwalkers = 24)\n",
    "# with open(directory+'mcmc_samples/'+filename, 'wb') as g:\n",
    "#     dill.dump(samples, g)"
   ]
  }
 ],
 "metadata": {
  "kernelspec": {
   "display_name": "Python 3",
   "language": "python",
   "name": "python3"
  },
  "language_info": {
   "codemirror_mode": {
    "name": "ipython",
    "version": 3
   },
   "file_extension": ".py",
   "mimetype": "text/x-python",
   "name": "python",
   "nbconvert_exporter": "python",
   "pygments_lexer": "ipython3",
   "version": "3.7.6"
  }
 },
 "nbformat": 4,
 "nbformat_minor": 2
}
