{
 "cells": [
  {
   "cell_type": "code",
   "execution_count": 1,
   "metadata": {},
   "outputs": [],
   "source": [
    "import pandas as pd \n",
    "import numpy as np \n",
    "import matplotlib.pyplot as plt\n",
    "import scipy.stats as ss \n",
    "\n",
    "# our script\n",
    "import gp_bandpowers as gpb\n",
    "\n",
    "# setting for matplotlib\n",
    "plt.rc('text', usetex=True)\n",
    "plt.rc('font',**{'family':'sans-serif','serif':['Palatino']})\n",
    "figSize  = (12, 8)\n",
    "fontSize = 20\n",
    "\n",
    "%matplotlib inline"
   ]
  },
  {
   "cell_type": "markdown",
   "metadata": {},
   "source": [
    "### Load Training Set"
   ]
  },
  {
   "cell_type": "code",
   "execution_count": 2,
   "metadata": {},
   "outputs": [],
   "source": [
    "data = pd.read_csv('training_points/bandpowers_1000.csv').iloc[:,1:]"
   ]
  },
  {
   "cell_type": "markdown",
   "metadata": {},
   "source": [
    "### Data Description\n",
    "\n",
    "The first 8 columns correspond to the 6 cosmological and 2 systematic parameters and are in the following order:\n",
    "\n",
    "$$\n",
    "\\left[\\Omega_{\\textrm{cdm}}h^{2},\\,\\Omega_{\\textrm{b}}h^{2},\\,\\textrm{ln}\\left(10^{10}A_{\\textrm{s}}\\right),\\,n_{\\textrm{s}},\\,h,\\,A_{\\textrm{bary}},\\,\\Sigma m_{\\nu},\\,A_{\\textrm{IA}}\\right]\n",
    "$$\n",
    "\n",
    "<img src=\"images/input_parameters.png\" style=\"height:250px\" class=\"center\">\n",
    "and the remaining 24 columns are the band powers. Therefore, we can build a GP which maps the 8 parameters to either one of the 24 band powers and we show one example below. "
   ]
  },
  {
   "cell_type": "markdown",
   "metadata": {},
   "source": [
    "### Build GP"
   ]
  },
  {
   "cell_type": "code",
   "execution_count": 3,
   "metadata": {},
   "outputs": [],
   "source": [
    "# the noise level (jitter term) for the GP is in log \n",
    "sigma      = [-40.0] \n",
    "bandIndex  = 1 # between 0 and 23 inclusive\n",
    "inputData  = np.array(data)[:,[0,1,2,3,4,5,6,7,bandIndex+8]]"
   ]
  },
  {
   "cell_type": "code",
   "execution_count": 4,
   "metadata": {},
   "outputs": [],
   "source": [
    "ndim   = 8\n",
    "\n",
    "# Set some bounds on the kernel hyperparameters, \n",
    "# effectively a prior as we would have done with a full Bayesian analysis\n",
    "bnd    = np.repeat(np.array([[-1.5,6]]), ndim+1, axis = 0)\n",
    "bnd[0] = np.array([0, 2])"
   ]
  },
  {
   "cell_type": "markdown",
   "metadata": {},
   "source": [
    "### Train GP"
   ]
  },
  {
   "cell_type": "code",
   "execution_count": 5,
   "metadata": {},
   "outputs": [
    {
     "name": "stdout",
     "output_type": "stream",
     "text": [
      "Performing Optimization step 1\n",
      "Performing Optimization step 2\n"
     ]
    }
   ],
   "source": [
    "gp     = gpb.GP(inputData, sigma=sigma, train = True, nrestart = 2, ndim = ndim)\n",
    "gp.transform()\n",
    "gp.fit(method = 'L-BFGS-B', bounds = bnd, options = {'ftol':1E-12, 'maxiter':500})"
   ]
  },
  {
   "cell_type": "markdown",
   "metadata": {},
   "source": [
    "<div style=\"text-align: justify\">The first output is the negative log-marginal likelihood of the GP. Normally we expect local optima. We can repeat the optimisation by changing nrestart. The second output is a vector with all the kernel hyperparameters (in log): amplitude and 8 lengthscales.</div>"
   ]
  },
  {
   "cell_type": "markdown",
   "metadata": {},
   "source": [
    "### Prediction"
   ]
  },
  {
   "cell_type": "code",
   "execution_count": 6,
   "metadata": {},
   "outputs": [],
   "source": [
    "# input parameters \n",
    "point = np.array([0.1295,  0.0224,  2.895 ,  0.9948,  0.7411,  1.0078,  0.5692, -1.9163])\n",
    "\n",
    "# exact band powers(after running CLASS) - this is in matrix logarithm\n",
    "truth = np.array([-14.2674, -13.6626, -13.3472, -13.0325,   1.3146,   1.182,    1.2528,   1.2598,\n",
    " -14.4343, -13.8934, -13.5505, -13.2225,   1.6632,   1.7638,   1.7675,   1.7708,\n",
    "   1.3421,   1.4618,   1.4726,   1.4902, -13.288,  -12.9761, -12.6294, -12.2721])\n",
    "\n",
    "# compute prediction using GP \n",
    "mean_     = gp.sampleBandPower(point, mean = True)\n",
    "samples   = gp.sampleBandPower(point, mean = False, nsamples = 5000)"
   ]
  },
  {
   "cell_type": "markdown",
   "metadata": {},
   "source": [
    "### Plotting"
   ]
  },
  {
   "cell_type": "code",
   "execution_count": 7,
   "metadata": {},
   "outputs": [],
   "source": [
    "std  = np.std(samples)\n",
    "dist = ss.norm(mean_, std)\n",
    "x = np.linspace(mean_ - 5*std, mean_ + 5*std, 2000)\n",
    "y = dist.pdf(x)"
   ]
  },
  {
   "cell_type": "code",
   "execution_count": 8,
   "metadata": {},
   "outputs": [
    {
     "data": {
      "image/png": "[encoded data removed]",
      "text/plain": [
       "<Figure size 576x576 with 1 Axes>"
      ]
     },
     "metadata": {
      "needs_background": "light"
     },
     "output_type": "display_data"
    }
   ],
   "source": [
    "plt.figure(figsize = (8,8))\n",
    "plt.plot(x,y, lw = 3)\n",
    "plt.xlim(min(x), max(x))\n",
    "plt.hist(samples, density = True, color = 'skyblue', bins = 15, edgecolor='blue', linewidth=0.1)\n",
    "plt.axvline(mean_, color = 'k', lw = 3, label = 'GP Mean')\n",
    "plt.axvline(truth[bandIndex], color = 'r', lw = 3, label = 'CLASS')\n",
    "plt.xlabel(r'$B^{ij}_{\\mu\\nu}$', fontsize = fontSize)\n",
    "plt.tick_params(axis='x', labelsize=fontSize)\n",
    "plt.tick_params(axis='y', labelsize=fontSize)\n",
    "plt.legend(loc = 'best',prop={'size':15})\n",
    "plt.show()"
   ]
  },
  {
   "cell_type": "code",
   "execution_count": null,
   "metadata": {},
   "outputs": [],
   "source": []
  }
 ],
 "metadata": {
  "kernelspec": {
   "display_name": "Python 3",
   "language": "python",
   "name": "python3"
  },
  "language_info": {
   "codemirror_mode": {
    "name": "ipython",
    "version": 3
   },
   "file_extension": ".py",
   "mimetype": "text/x-python",
   "name": "python",
   "nbconvert_exporter": "python",
   "pygments_lexer": "ipython3",
   "version": "3.7.6"
  }
 },
 "nbformat": 4,
 "nbformat_minor": 2
}
